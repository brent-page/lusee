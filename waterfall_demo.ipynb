{
 "cells": [
  {
   "cell_type": "code",
   "execution_count": 1,
   "metadata": {},
   "outputs": [
    {
     "name": "stdout",
     "output_type": "stream",
     "text": [
      "Using pygdsm from : ['/gpfs02/astro/packages/bacon/latest/lib/python3.8/site-packages/pygdsm']\n"
     ]
    }
   ],
   "source": [
    "import sys\n",
    "from lusee_sky import *\n",
    "print (\"Using pygdsm from :\",pygdsm.__path__)\n",
    "load_kernels()"
   ]
  },
  {
   "cell_type": "code",
   "execution_count": 2,
   "metadata": {},
   "outputs": [],
   "source": [
    "nights = get_lunar_nights(2024)"
   ]
  },
  {
   "cell_type": "code",
   "execution_count": 3,
   "metadata": {},
   "outputs": [],
   "source": [
    "freq=np.arange(10,20,2)\n",
    "NS=3\n",
    "EW=30"
   ]
  },
  {
   "cell_type": "code",
   "execution_count": 4,
   "metadata": {},
   "outputs": [
    {
     "name": "stdout",
     "output_type": "stream",
     "text": [
      "Generated maps nside =  512\n",
      "     ...time 0:100.\n",
      " Integrating sky at 10MHz...\n",
      " Integrating sky at 12MHz...\n",
      " Integrating sky at 14MHz...\n",
      " Integrating sky at 16MHz...\n",
      " Integrating sky at 18MHz...\n",
      "     ...time 100:200.\n",
      " Integrating sky at 10MHz...\n",
      " Integrating sky at 12MHz...\n",
      " Integrating sky at 14MHz...\n",
      " Integrating sky at 16MHz...\n",
      " Integrating sky at 18MHz...\n",
      "     ...time 200:300.\n",
      " Integrating sky at 10MHz...\n",
      " Integrating sky at 12MHz...\n",
      " Integrating sky at 14MHz...\n",
      " Integrating sky at 16MHz...\n",
      " Integrating sky at 18MHz...\n",
      "     ...time 300:400.\n",
      " Integrating sky at 10MHz...\n",
      " Integrating sky at 12MHz...\n",
      " Integrating sky at 14MHz...\n",
      " Integrating sky at 16MHz...\n",
      " Integrating sky at 18MHz...\n",
      "     ...time 400:500.\n",
      " Integrating sky at 10MHz...\n",
      " Integrating sky at 12MHz...\n",
      " Integrating sky at 14MHz...\n",
      " Integrating sky at 16MHz...\n",
      " Integrating sky at 18MHz...\n",
      "     ...time 500:600.\n",
      " Integrating sky at 10MHz...\n",
      " Integrating sky at 12MHz...\n",
      " Integrating sky at 14MHz...\n",
      " Integrating sky at 16MHz...\n",
      " Integrating sky at 18MHz...\n",
      "     ...time 600:700.\n",
      " Integrating sky at 10MHz...\n",
      " Integrating sky at 12MHz...\n",
      " Integrating sky at 14MHz...\n",
      " Integrating sky at 16MHz...\n",
      " Integrating sky at 18MHz...\n",
      "     ...time 700:800.\n",
      " Integrating sky at 10MHz...\n",
      " Integrating sky at 12MHz...\n",
      " Integrating sky at 14MHz...\n",
      " Integrating sky at 16MHz...\n",
      " Integrating sky at 18MHz...\n",
      "     ...time 800:900.\n",
      " Integrating sky at 10MHz...\n",
      " Integrating sky at 12MHz...\n",
      " Integrating sky at 14MHz...\n",
      " Integrating sky at 16MHz...\n",
      " Integrating sky at 18MHz...\n",
      "     ...time 900:1000.\n",
      " Integrating sky at 10MHz...\n",
      " Integrating sky at 12MHz...\n",
      " Integrating sky at 14MHz...\n",
      " Integrating sky at 16MHz...\n",
      " Integrating sky at 18MHz...\n",
      "     ...time 1000:1100.\n",
      " Integrating sky at 10MHz...\n",
      " Integrating sky at 12MHz...\n",
      " Integrating sky at 14MHz...\n",
      " Integrating sky at 16MHz...\n",
      " Integrating sky at 18MHz...\n",
      "     ...time 1100:1200.\n",
      " Integrating sky at 10MHz...\n",
      " Integrating sky at 12MHz...\n",
      " Integrating sky at 14MHz...\n",
      " Integrating sky at 16MHz...\n",
      " Integrating sky at 18MHz...\n",
      "     ...time 1200:1300.\n",
      " Integrating sky at 10MHz...\n",
      " Integrating sky at 12MHz...\n",
      " Integrating sky at 14MHz...\n",
      " Integrating sky at 16MHz...\n",
      " Integrating sky at 18MHz...\n",
      "     ...time 1300:1332.\n",
      " Integrating sky at 10MHz...\n",
      " Integrating sky at 12MHz...\n",
      " Integrating sky at 14MHz...\n",
      " Integrating sky at 16MHz...\n",
      " Integrating sky at 18MHz...\n"
     ]
    }
   ],
   "source": [
    "wfall=time_freq_K(nights[0],freq,NS_20MHz_beam_stdev_degr = NS,EW_20MHz_beam_stdev_degr=EW, verbose=True)"
   ]
  },
  {
   "cell_type": "code",
   "execution_count": 5,
   "metadata": {},
   "outputs": [
    {
     "data": {
      "text/plain": [
       "(1332, 5)"
      ]
     },
     "execution_count": 5,
     "metadata": {},
     "output_type": "execute_result"
    }
   ],
   "source": [
    "wfall.shape"
   ]
  },
  {
   "cell_type": "code",
   "execution_count": 9,
   "metadata": {},
   "outputs": [
    {
     "data": {
      "text/plain": [
       "<matplotlib.colorbar.Colorbar at 0x2b8321efd4f0>"
      ]
     },
     "execution_count": 9,
     "metadata": {},
     "output_type": "execute_result"
    },
    {
     "data": {
      "image/png": "[encoded data removed]",
      "text/plain": [
       "<Figure size 432x288 with 2 Axes>"
      ]
     },
     "metadata": {
      "needs_background": "light"
     },
     "output_type": "display_data"
    }
   ],
   "source": [
    "plt.imshow(wfall.T, aspect='auto', interpolation='nearest')\n",
    "plt.colorbar()"
   ]
  },
  {
   "cell_type": "code",
   "execution_count": null,
   "metadata": {},
   "outputs": [],
   "source": []
  }
 ],
 "metadata": {
  "kernelspec": {
   "display_name": "Bacon (BNL Astro Conda)",
   "language": "python",
   "name": "bacon"
  },
  "language_info": {
   "codemirror_mode": {
    "name": "ipython",
    "version": 3
   },
   "file_extension": ".py",
   "mimetype": "text/x-python",
   "name": "python",
   "nbconvert_exporter": "python",
   "pygments_lexer": "ipython3",
   "version": "3.8.5"
  }
 },
 "nbformat": 4,
 "nbformat_minor": 4
}
